{
  "nbformat": 4,
  "nbformat_minor": 0,
  "metadata": {
    "colab": {
      "provenance": []
    },
    "kernelspec": {
      "name": "python3",
      "display_name": "Python 3"
    },
    "language_info": {
      "name": "python"
    }
  },
  "cells": [
    {
      "cell_type": "markdown",
      "source": [
        "# Gestione concessionaria multimarche per la vendita di automobili e moto usate\n",
        "\n",
        "\n",
        "Una concessionaria multimarche che vende veicoli esclusivamente Automobili e Moto vuole gestire in modo automatizzato la contabilità della propria attività.\n",
        "\n",
        "La concessionaria vuole gestire le diverse vendite che vengono effettuate periodicamente.\n",
        "\n",
        "Le vendite giornaliere sono composte da una lista di veicoli che possono riguardare quantitativi di automobili e motocicli differenti (es. 3 automobili, 2 motocicli).\n",
        "\n",
        "Gli addetti alle vendite della concessionaria vogliono poter conoscere:\n",
        "\n",
        "1.   Per un vendita giornaliera : il numero di veicoli venduti e l'importo totale senza distinguere il tipo di veicolo\n",
        "2.   Per un ogni vendita giornaliera : il dettaglio dei veicoli, l'incasso totale, l'incasso totale per tipologia di veicolo (automobili  e motocicli)\n",
        "3.   Per tutti gli ordini del negozio il dettaglio degli veicoli, l'importo totale, l'importo delle automobili e l'importo dei motocicli.  \n",
        "\n",
        "\n",
        "\n",
        "```\n",
        "# Definire una classe base Veicolo (dalla quale derivare le classi Automobile, Motocicli)\n",
        "Definire una classe Vendita, che conterrà gli oggetti di tipo Automobile, Motocicli\n",
        "Definire una classe Vendite, che conterrà gli oggetti di tipo Vendita.\n",
        "Implementare i diversi metodi indicati\n",
        "```\n",
        "\n"
      ],
      "metadata": {
        "id": "AQZ3EdiHv43l"
      }
    },
    {
      "cell_type": "code",
      "source": [
        "class Veicolo:\n",
        "  def __init__(self, codice, marca, modello,prezzo, annoRevisione):\n",
        "    self.codice = codice\n",
        "    self.marca = marca\n",
        "    self.modello = modello\n",
        "    self.prezzo = prezzo\n",
        "    self.annoRevisione = annoRevisione\n",
        "\n",
        "\n",
        "\n",
        "  def scheda_veicolo(self):\n",
        "    return(f\"\\nCodice: {self.codice} \\nMarca: {self.marca} \\nModello: {self.modello} \\nPrezzo: {self.prezzo} \\nAnno Revisione: {self.annoRevisione}\")\n",
        "\n",
        "\n",
        "  def modifica_scheda(self):\n",
        "    while True:\n",
        "      print(\"1. Modifica Codice\")\n",
        "      print(\"2. Modifica Marca\")\n",
        "      print(\"3. Modifica Modello\")\n",
        "      print(\"4. Modifica Prezzo\")\n",
        "      print(\"5. Modifica Anno Revisione\")\n",
        "      print(\"0. EXIT\")\n",
        "      s=int(input(\":\"))\n",
        "\n",
        "      match(s):\n",
        "        case 0:\n",
        "          break;\n",
        "\n",
        "        case 1:\n",
        "          \"\"\"\n",
        "          codice = input(\"Inserisci nuovo codice: \")\n",
        "          while len(codice) != 4:\n",
        "              codice = input(\"Reinserisci nuovo codice (4 cifre): \")\n",
        "          self.codice = int(codice)\n",
        "          \"\"\"\n",
        "          codice = int(input(\"Inserisci nuovo codice: \"))\n",
        "          while codice>10000: #controlla che il codice sia di 4 cifre\n",
        "              codice = int(input(\"Reinserisci nuovo codice (4 cifre): \"))\n",
        "          self.codice = codice\n",
        "        case 2:\n",
        "          marca = input(\"Inserisci nuova marca: \")\n",
        "          self.marca = marca\n",
        "\n",
        "        case 3:\n",
        "          modello = input(\"Inserisci nuovo modello: \")\n",
        "          self.modello = modello\n",
        "\n",
        "        case 4:\n",
        "          prezzo = int(input(\"Inserisci nuovo prezzo: \"))\n",
        "          while(prezzo<0):\n",
        "            prezzo = int(input(\"Reinserisci prezzo: \"))\n",
        "\n",
        "          self.prezzo = prezzo\n",
        "\n",
        "        case 5:\n",
        "          annoRevisione = int(input(\"Inserisci nuovo anno revisione: \"))\n",
        "          while(annoRevisione<2023):\n",
        "            annoRevisione = int(input(\"Reinserissci anno revisione: \"))\n",
        "\n",
        "          self.annoRevisione = annoRevisione\n"
      ],
      "metadata": {
        "id": "yhIaJdEBw08f"
      },
      "execution_count": 11,
      "outputs": []
    },
    {
      "cell_type": "code",
      "source": [
        "class Automobile(Veicolo):\n",
        "    def __init__(self, codice, marca, modello, prezzo, annoRevisione,lunghezza,larghezza):\n",
        "      super().__init__(codice, marca, modello, prezzo, annoRevisione)\n",
        "      self.lunghezza = lunghezza\n",
        "      self.larghezza = larghezza\n",
        "\n",
        "\n",
        "    def scheda_veicolo(self):\n",
        "      return f\"{super().scheda_veicolo()} \\nLunghezza: {self.lunghezza} \\nLarghezza: {self.larghezza}\"\n",
        "\n",
        "\n"
      ],
      "metadata": {
        "id": "8GWptr480irW"
      },
      "execution_count": 15,
      "outputs": []
    },
    {
      "cell_type": "code",
      "source": [
        "auto = Automobile(1233, \"Totota\", \"Corolla\", 15000, 2023, 4.5, 1.8)\n",
        "print(auto.scheda_veicolo())"
      ],
      "metadata": {
        "colab": {
          "base_uri": "https://localhost:8080/"
        },
        "id": "sKjE56YeuoEj",
        "outputId": "9485c5c2-0539-4fdc-d118-07bb14a6e1f7"
      },
      "execution_count": 16,
      "outputs": [
        {
          "output_type": "stream",
          "name": "stdout",
          "text": [
            "\n",
            "Codice: 1233 \n",
            "Marca: Totota \n",
            "Modello: Corolla \n",
            "Prezzo: 15000 \n",
            "Anno Revisione: 2023 \n",
            "Lunghezza: 4.5 \n",
            "Larghezza: 1.8\n"
          ]
        }
      ]
    },
    {
      "cell_type": "code",
      "source": [
        "class Motociclo(Veicolo):\n",
        "\n",
        "  def __init__(self, codice, marca, modello, prezzo, annoRevisione, tipo, potenza):\n",
        "    super().__init__(codice, marca, modello, prezzo, annoRevisione)\n",
        "    self.tipo = tipo\n",
        "    self.potenza = potenza\n",
        "\n",
        "\n",
        "  def scheda_veicolo(self):\n",
        "    return f\"{super().scheda_veicolo()} \\nTipo: {self.tipo} \\nPotenza: {self.potenza}\"\n"
      ],
      "metadata": {
        "id": "GLmqN7J51iJt"
      },
      "execution_count": 17,
      "outputs": []
    },
    {
      "cell_type": "code",
      "source": [
        "moto = Motociclo(321, \"Honda\", \"CBR-RR\", 35000, 2024, \"Stradale\", 1000)\n",
        "print(moto.scheda_veicolo())"
      ],
      "metadata": {
        "colab": {
          "base_uri": "https://localhost:8080/"
        },
        "id": "ycFRGHGxzQz2",
        "outputId": "8276021d-87cf-4d00-cc02-ad4f9f88f698"
      },
      "execution_count": 18,
      "outputs": [
        {
          "output_type": "stream",
          "name": "stdout",
          "text": [
            "\n",
            "Codice: 321 \n",
            "Marca: Honda \n",
            "Modello: CBR-RR \n",
            "Prezzo: 35000 \n",
            "Anno Revisione: 2024 \n",
            "Tipo: Stradale \n",
            "Potenza: 1000\n"
          ]
        }
      ]
    },
    {
      "cell_type": "markdown",
      "source": [],
      "metadata": {
        "id": "mqa_btj2sumB"
      }
    },
    {
      "cell_type": "code",
      "source": [
        "a1 = Automobile(1,\"Audi\",\"Audi Q3\",25000,2015,4.5,1.85)\n",
        "print(a1.scheda_veicolo())\n"
      ],
      "metadata": {
        "colab": {
          "base_uri": "https://localhost:8080/"
        },
        "id": "_JIUPahOqSJp",
        "outputId": "c8f547e3-0e97-41c9-e42a-9b2cee7d2d52"
      },
      "execution_count": 19,
      "outputs": [
        {
          "output_type": "stream",
          "name": "stdout",
          "text": [
            "\n",
            "Codice: 1 \n",
            "Marca: Audi \n",
            "Modello: Audi Q3 \n",
            "Prezzo: 25000 \n",
            "Anno Revisione: 2015 \n",
            "Lunghezza: 4.5 \n",
            "Larghezza: 1.85\n"
          ]
        }
      ]
    },
    {
      "cell_type": "code",
      "source": [
        "a1.modifica_scheda()\n",
        "print(a1.scheda_veicolo())"
      ],
      "metadata": {
        "id": "BvBZ0eVNvHcK",
        "colab": {
          "base_uri": "https://localhost:8080/"
        },
        "outputId": "28f75722-5e14-4204-df74-118997fa14cb"
      },
      "execution_count": 20,
      "outputs": [
        {
          "output_type": "stream",
          "name": "stdout",
          "text": [
            "1. Modifica Codice\n",
            "2. Modifica Marca\n",
            "3. Modifica Modello\n",
            "4. Modifica Prezzo\n",
            "5. Modifica Anno Revisione\n",
            "0. EXIT\n",
            ":5\n",
            "Inserisci nuovo anno revisione: 2025\n",
            "1. Modifica Codice\n",
            "2. Modifica Marca\n",
            "3. Modifica Modello\n",
            "4. Modifica Prezzo\n",
            "5. Modifica Anno Revisione\n",
            "0. EXIT\n",
            ":0\n",
            "\n",
            "Codice: 1 \n",
            "Marca: Audi \n",
            "Modello: Audi Q3 \n",
            "Prezzo: 25000 \n",
            "Anno Revisione: 2025 \n",
            "Lunghezza: 4.5 \n",
            "Larghezza: 1.85\n"
          ]
        }
      ]
    },
    {
      "cell_type": "code",
      "source": [
        "from os import listxattr\n",
        "\n",
        "class Vendita():\n",
        "    def __init__(self, codice, data, codiceVenditore):\n",
        "        self.codice = codice\n",
        "        self.data = data\n",
        "        self.codiceVenditore = codiceVenditore\n",
        "        self.lista_veicoli = []\n",
        "\n",
        "    def aggiungi_veicolo(self, veicolo):\n",
        "        if isinstance(veicolo, Automobile):\n",
        "            tipo_veicolo = \"automobile\"\n",
        "        elif isinstance(veicolo, Motociclo):\n",
        "            tipo_veicolo = \"motociclo\"\n",
        "        self.lista_veicoli.append(veicolo)\n",
        "\n",
        "        print(f\"{tipo_veicolo} Aggiunto con successo! \\n{veicolo.scheda_veicolo()}\")\n",
        "\n",
        "\n",
        "    def rimuovi_veicolo(self, veicolo):\n",
        "        if veicolo in self.lista_veicoli:\n",
        "            self.lista_veicoli.remove(veicolo)\n",
        "            print(f\"{veicolo.marca} {veicolo.modello} \\nRimosso con successo!!!\")\n",
        "        else:\n",
        "            print(f\"{veicolo.marca} {veicolo.modello} non presente nella lista!\")\n",
        "\n",
        "\n",
        "    def importo_vendita(self):\n",
        "        numero_veicoli = len(self.lista_veicoli)\n",
        "        importo_totale = sum(veicolo.prezzo for veicolo in self.lista_veicoli)\n",
        "\n",
        "        print(f\"Numero di veicoli: {numero_veicoli}\")\n",
        "        print(f\"Importo totale della vendita giornaliera: {importo_totale}\")\n",
        "\n",
        "\n",
        "    def dettaglio_vendita(self):\n",
        "        sommaA = sum(veicolo.prezzo for veicolo in self.lista_veicoli if isinstance(veicolo, Automobile))\n",
        "        sommaM = sum(veicolo.prezzo for veicolo in self.lista_veicoli if isinstance(veicolo, Motociclo))\n",
        "\n",
        "        totale = sommaA + sommaM\n",
        "        provvigione = (sommaA * 0.03) + (sommaM * 0.02)\n",
        "\n",
        "        print(f\"Dettaglio Vendita:\")\n",
        "        print(f\"Somma importi automobili: {sommaA}\")\n",
        "        print(f\"Somma importi motocicli: {sommaM}\")\n",
        "        print(f\"Somma importi totali: {totale}\")\n",
        "        print(f\"Provvigione: {provvigione}\")\n",
        "        return [sommaA, sommaM, totale, provvigione]\n",
        "\n"
      ],
      "metadata": {
        "id": "1enH-TVv10EH"
      },
      "execution_count": 21,
      "outputs": []
    },
    {
      "cell_type": "code",
      "source": [
        "a2 = Automobile(2,\"Peugeot\",\"Peugeot 2008\",18000,2014,4.2,1.75)\n",
        "m1 = Motociclo(3,\"Gilera\",\"Gilera Runner 50\",3500,2016,\"Scooter\",1200)\n",
        "m2 = Motociclo(4,\"Honda\",\"SW-T 400 – 2013\",4500,2012,\"Super Sport\",1000)"
      ],
      "metadata": {
        "id": "64oNJxy8xoz-"
      },
      "execution_count": 22,
      "outputs": []
    },
    {
      "cell_type": "code",
      "source": [
        "vendita1=Vendita(1,\"01/04/2022\",'123')\n",
        "vendita1.aggiungi_veicolo(a1)\n",
        "vendita1.aggiungi_veicolo(a2)\n",
        "vendita1.aggiungi_veicolo(m1)\n",
        "vendita1.aggiungi_veicolo(m2)\n"
      ],
      "metadata": {
        "colab": {
          "base_uri": "https://localhost:8080/"
        },
        "id": "jtQYjBIJzElB",
        "outputId": "eab94804-bf01-4e83-9a64-26af7a932163"
      },
      "execution_count": 23,
      "outputs": [
        {
          "output_type": "stream",
          "name": "stdout",
          "text": [
            "automobile Aggiunto con successo! \n",
            "\n",
            "Codice: 1 \n",
            "Marca: Audi \n",
            "Modello: Audi Q3 \n",
            "Prezzo: 25000 \n",
            "Anno Revisione: 2025 \n",
            "Lunghezza: 4.5 \n",
            "Larghezza: 1.85\n",
            "automobile Aggiunto con successo! \n",
            "\n",
            "Codice: 2 \n",
            "Marca: Peugeot \n",
            "Modello: Peugeot 2008 \n",
            "Prezzo: 18000 \n",
            "Anno Revisione: 2014 \n",
            "Lunghezza: 4.2 \n",
            "Larghezza: 1.75\n",
            "motociclo Aggiunto con successo! \n",
            "\n",
            "Codice: 3 \n",
            "Marca: Gilera \n",
            "Modello: Gilera Runner 50 \n",
            "Prezzo: 3500 \n",
            "Anno Revisione: 2016 \n",
            "Tipo: Scooter \n",
            "Potenza: 1200\n",
            "motociclo Aggiunto con successo! \n",
            "\n",
            "Codice: 4 \n",
            "Marca: Honda \n",
            "Modello: SW-T 400 – 2013 \n",
            "Prezzo: 4500 \n",
            "Anno Revisione: 2012 \n",
            "Tipo: Super Sport \n",
            "Potenza: 1000\n"
          ]
        }
      ]
    },
    {
      "cell_type": "code",
      "source": [
        "vendita1.rimuovi_veicolo(m2)\n",
        "vendita1.rimuovi_veicolo(m2)\n"
      ],
      "metadata": {
        "id": "19jVOWzy0XzX",
        "colab": {
          "base_uri": "https://localhost:8080/"
        },
        "outputId": "46174b66-690c-4d82-9a00-74d9ab2f6389"
      },
      "execution_count": 24,
      "outputs": [
        {
          "output_type": "stream",
          "name": "stdout",
          "text": [
            "Honda SW-T 400 – 2013 \n",
            "Rimosso con successo!!!\n",
            "Honda SW-T 400 – 2013 non presente nella lista!\n"
          ]
        }
      ]
    },
    {
      "cell_type": "code",
      "source": [
        "#13 Risposta al Punto 1 : Per una vendita: 'importo totale senza distinguere il tipo di veicolo\n",
        "\n",
        "vendita1.importo_vendita()"
      ],
      "metadata": {
        "colab": {
          "base_uri": "https://localhost:8080/"
        },
        "id": "t5VmpBnJ2huw",
        "outputId": "abb0647d-9638-49a8-be1b-4a20b8e602bb"
      },
      "execution_count": 25,
      "outputs": [
        {
          "output_type": "stream",
          "name": "stdout",
          "text": [
            "Numero di veicoli: 3\n",
            "Importo totale della vendita giornaliera: 46500\n"
          ]
        }
      ]
    },
    {
      "cell_type": "code",
      "source": [
        "#14 Risposta punto 2.   Per una ogni vendita: l'importo totale,\n",
        "# l'importo delle automobili, l'importo dei motocicli e il totale della provvigione.\n",
        "importi=vendita1.dettaglio_vendita()\n",
        "print(\"--------------------------\")\n",
        "print(f\"\\nImporto Automobili= {importi[0]}\")\n",
        "print(f\"\\nImporto Motocicli= {importi[1]}\")\n",
        "print(f\"\\nImporto Totale= {importi[2]}\")\n",
        "print(f\"\\nImporto Provvigione= {importi[3]}\")\n",
        "\n"
      ],
      "metadata": {
        "colab": {
          "base_uri": "https://localhost:8080/"
        },
        "id": "GL_SfcWxIOI1",
        "outputId": "7426b8e9-9ca9-4a28-b23b-9926915b6712"
      },
      "execution_count": 26,
      "outputs": [
        {
          "output_type": "stream",
          "name": "stdout",
          "text": [
            "Dettaglio Vendita:\n",
            "Somma importi automobili: 43000\n",
            "Somma importi motocicli: 3500\n",
            "Somma importi totali: 46500\n",
            "Provvigione: 1360.0\n",
            "--------------------------\n",
            "\n",
            "Importo Automobili= 43000\n",
            "\n",
            "Importo Motocicli= 3500\n",
            "\n",
            "Importo Totale= 46500\n",
            "\n",
            "Importo Provvigione= 1360.0\n"
          ]
        }
      ]
    },
    {
      "cell_type": "code",
      "source": [
        "class Vendite():\n",
        "  def __init__(self,nome_negozio,codice_negozio):\n",
        "    self.nome_negozio=nome_negozio\n",
        "    self.codice_negozio=codice_negozio\n",
        "    self.lista_vendite=[]\n",
        "\n",
        "\n",
        "  def aggiungi_vendita(self,vendita):\n",
        "    #17 Implementa il metodo\n",
        "    self.lista_vendite.append(vendita)\n",
        "    print(f\"Vendita numero {vendita.codice} aggiunta con successo!\")\n",
        "\n",
        "\n",
        "  def rimuovi_vendita(self,vendita):\n",
        "    #18 Implementa il metodo\n",
        "    if vendita in self.lista_vendite:\n",
        "      self.lista_vendite.remove(vendita)\n",
        "      print(f\"Vendita numero {vendita.codice} rimossa con successo!\")\n",
        "    else:\n",
        "      print(f\"Vendita numero {vendita.codice} non presente nella lista!\")\n",
        "\n",
        "\n",
        "  def totale_vendite(self):\n",
        "    #19 Implementa il metodo\n",
        "    totA=0\n",
        "    totM=0\n",
        "    tot=0\n",
        "\n",
        "    for vendita in self.lista_vendite:\n",
        "      dettaglio=vendita.dettaglio_vendita()\n",
        "      totA+=dettaglio[0]\n",
        "      totM+=dettaglio[1]\n",
        "\n",
        "    return ([totA,totM,tot])"
      ],
      "metadata": {
        "id": "pPS8VRFE13KC"
      },
      "execution_count": 30,
      "outputs": []
    },
    {
      "cell_type": "code",
      "source": [
        "vendite_negozio=Vendite(\"Concessionaria Magenta \",1)\n",
        "vendite_negozio.aggiungi_vendita(vendita1)\n",
        "vendite_negozio.rimuovi_vendita(vendita1)\n",
        "vendite_negozio.rimuovi_vendita(vendita1)"
      ],
      "metadata": {
        "id": "0XDiVxn7M88-",
        "colab": {
          "base_uri": "https://localhost:8080/"
        },
        "outputId": "bb72e39c-9e78-49a4-81ae-f6170f8989f5"
      },
      "execution_count": 31,
      "outputs": [
        {
          "output_type": "stream",
          "name": "stdout",
          "text": [
            "Vendita numero 1 aggiunta con successo!\n",
            "Vendita numero 1 rimossa con successo!\n",
            "Vendita numero 1 non presente nella lista!\n"
          ]
        }
      ]
    },
    {
      "cell_type": "code",
      "source": [
        "vendite_negozio.aggiungi_vendita(vendita1)"
      ],
      "metadata": {
        "id": "hdCwKlv2N16p",
        "colab": {
          "base_uri": "https://localhost:8080/"
        },
        "outputId": "5007af41-918d-4d90-9ca3-400e31a17b49"
      },
      "execution_count": 32,
      "outputs": [
        {
          "output_type": "stream",
          "name": "stdout",
          "text": [
            "Vendita numero 1 aggiunta con successo!\n"
          ]
        }
      ]
    },
    {
      "cell_type": "code",
      "source": [
        "a3 = Automobile(5,\"Renault\",\"Clio\",12000,2020,3.2,1.55)\n",
        "\n",
        "m3 =  Motociclo(6,\"Honda\",\"SW-T 500\",5500,2021,\"Sport\",1200)\n",
        "\n",
        "vendita2=Vendita(2,\"2/04/2022\",'234')\n",
        "vendita2.aggiungi_veicolo(a3)\n",
        "vendita2.aggiungi_veicolo(m3)\n"
      ],
      "metadata": {
        "id": "dAtZXtiSM83Q",
        "colab": {
          "base_uri": "https://localhost:8080/"
        },
        "outputId": "681a93b3-047f-4db9-de9e-84dcec1de874"
      },
      "execution_count": 34,
      "outputs": [
        {
          "output_type": "stream",
          "name": "stdout",
          "text": [
            "automobile Aggiunto con successo! \n",
            "\n",
            "Codice: 5 \n",
            "Marca: Renault \n",
            "Modello: Clio \n",
            "Prezzo: 12000 \n",
            "Anno Revisione: 2020 \n",
            "Lunghezza: 3.2 \n",
            "Larghezza: 1.55\n",
            "motociclo Aggiunto con successo! \n",
            "\n",
            "Codice: 6 \n",
            "Marca: Honda \n",
            "Modello: SW-T 500 \n",
            "Prezzo: 5500 \n",
            "Anno Revisione: 2021 \n",
            "Tipo: Sport \n",
            "Potenza: 1200\n"
          ]
        }
      ]
    },
    {
      "cell_type": "code",
      "source": [
        "vendite_negozio.aggiungi_vendita(vendita2)"
      ],
      "metadata": {
        "id": "k3zRLdbzOwf5",
        "colab": {
          "base_uri": "https://localhost:8080/"
        },
        "outputId": "adb9a774-302c-4877-8d07-bf67fd2730e2"
      },
      "execution_count": 35,
      "outputs": [
        {
          "output_type": "stream",
          "name": "stdout",
          "text": [
            "Vendita numero 2 aggiunta con successo!\n"
          ]
        }
      ]
    },
    {
      "cell_type": "code",
      "source": [
        "# 20 Riposta punto 3: Per tutti le vendite della concessionaria mostra\n",
        "# il dettaglio dei veicoli, l'importo totale,\n",
        "# l'importo delle automobili e l'importo dei motocicli.\n",
        "importiTotali=vendite_negozio.totale_vendite()\n",
        "print(\"--------------------------\")\n",
        "print(f\"\\nImporto totale automobili= {importiTotali[0]}\")\n",
        "print(f\"\\nImporto totale motocilci= {importiTotali[1]}\")\n",
        "print(f\"\\nImporto totale di tutte le vendite= {importiTotali[2]}\")"
      ],
      "metadata": {
        "id": "O1yTesXNO6VI",
        "colab": {
          "base_uri": "https://localhost:8080/"
        },
        "outputId": "00ffa666-8cf7-434b-efea-cbfe649f388f"
      },
      "execution_count": 36,
      "outputs": [
        {
          "output_type": "stream",
          "name": "stdout",
          "text": [
            "Dettaglio Vendita:\n",
            "Somma importi automobili: 43000\n",
            "Somma importi motocicli: 3500\n",
            "Somma importi totali: 46500\n",
            "Provvigione: 1360.0\n",
            "Dettaglio Vendita:\n",
            "Somma importi automobili: 12000\n",
            "Somma importi motocicli: 5500\n",
            "Somma importi totali: 17500\n",
            "Provvigione: 470.0\n",
            "--------------------------\n",
            "\n",
            "Importo totale automobili= 55000\n",
            "\n",
            "Importo totale motocilci= 9000\n",
            "\n",
            "Importo totale di tutte le vendite= 0\n"
          ]
        }
      ]
    }
  ]
}