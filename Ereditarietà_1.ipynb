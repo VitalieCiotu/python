{
  "nbformat": 4,
  "nbformat_minor": 0,
  "metadata": {
    "colab": {
      "provenance": []
    },
    "kernelspec": {
      "name": "python3",
      "display_name": "Python 3"
    },
    "language_info": {
      "name": "python"
    }
  },
  "cells": [
    {
      "cell_type": "markdown",
      "source": [
        "# 4) Gestione catena di residenze per studenti e insegnanti\n",
        "Una catena di residenze per studenti e insegnanti vuole gestire in modo automatizzato l'affitto di stanze per il personale universitario.\n",
        "La catena dispone di più strutture residenziali dislocate sul territorio,\n",
        "ogni residenza può ospitare studenti e insegnanti. Gli ospiti della residenza affittano la stanza per n mesi e pagano una quota mensile. Gli amministratori della catena vogliono conoscere per ogni residenza il numero di ospiti presenti e l'incasso previsto in base al numero di mesi e al canone mensile corrisposto da ciascun ospite. Completare il codice seguente implementando i vari metodi ed aggiungendo gli attributi necessari per la gestione della contabilità.\n",
        "\n",
        "\n",
        "```\n",
        "# Definire una classe base Persona dalla quale derivare le classi Studente e Insegnante.\n",
        "Definire una classe Residenza, che conterrà gli oggetti di tipo Studente e Insegnante e una classe Catena,\n",
        "che conterrà gli oggetti di tipo Residenza.\n",
        "```\n",
        "\n"
      ],
      "metadata": {
        "id": "vjq28u8rwgJt"
      }
    },
    {
      "cell_type": "code",
      "source": [
        "class Persona:\n",
        "  def __init__(self, nome, cognome, eta, residenza):\n",
        "    self.nome=nome\n",
        "    self.cognome=cognome\n",
        "    self.eta=eta\n",
        "    self.residenza=residenza\n",
        "\n",
        "  def scheda_personale(self):\n",
        "\n",
        "    return f\"\\nNome: {self.nome} \\nCognome: {self.cognome} \\nEta: {self.eta} \\nResidenza {self.residenza}\"\n",
        "\n",
        "  def modifica_scheda(self):\n",
        "\n",
        "    while True:\n",
        "      print(\"Cosa desideri modificare?\")\n",
        "      print(\"1. Nome\")\n",
        "      print(\"2. Cognome\")\n",
        "      print(\"3. Eta\")\n",
        "      print(\"4. Residenza\")\n",
        "      print(\"0. EXIT\")\n",
        "      n=int(input(\": \"))\n",
        "\n",
        "      match(n):\n",
        "        case 1:\n",
        "          nNome=input(\"Inserisci nuovo nome: \")\n",
        "          self.nome=nNome\n",
        "\n",
        "        case 2:\n",
        "          nCognome=input(\"Inserisci nuovo Cognome: \")\n",
        "          self.cognome=nCognome\n",
        "\n",
        "        case 3:\n",
        "          nEta=input(\"Inserisci nuova Eta: \")\n",
        "          self.eta=nEta\n",
        "\n",
        "        case 4:\n",
        "          nResidenza=input(\"Inserisci nuova Resdienza: \")\n",
        "          self.residenza=nResidenza\n",
        "\n",
        "        #case _:\n",
        "          #print(\"Inserisci numero 0-4!!!\")\n",
        "\n",
        "      if n==0:\n",
        "        break"
      ],
      "metadata": {
        "id": "g4_UvXgyg4e-"
      },
      "execution_count": null,
      "outputs": []
    },
    {
      "cell_type": "code",
      "source": [
        "class Studente(Persona):\n",
        "    pass\n",
        "\n",
        "class Insegnante(Persona):\n",
        "    pass"
      ],
      "metadata": {
        "id": "vDnChL4vhlv5"
      },
      "execution_count": null,
      "outputs": []
    },
    {
      "cell_type": "code",
      "source": [
        "studente_uno = Studente(\"Marco\", \"Verdi\", 24, \"Casa Dello Studente\")\n",
        "insegnante_uno = Insegnante(\"Mario\", \"Rossi\", 33, \"Viale Roma 32\")\n",
        "print(studente_uno.scheda_personale())\n",
        "print(insegnante_uno.scheda_personale())"
      ],
      "metadata": {
        "colab": {
          "base_uri": "https://localhost:8080/"
        },
        "id": "TItdUy9uh0BC",
        "outputId": "9887aafe-1527-4025-fe8e-20b6b92d4417"
      },
      "execution_count": null,
      "outputs": [
        {
          "output_type": "stream",
          "name": "stdout",
          "text": [
            "\n",
            "Nome: Marco \n",
            "Cognome: Verdi \n",
            "Eta: 24 \n",
            "Residenza Casa Dello Studente\n",
            "\n",
            "Nome: Mario \n",
            "Cognome: Rossi \n",
            "Eta: 33 \n",
            "Residenza Viale Roma 32\n"
          ]
        }
      ]
    },
    {
      "cell_type": "code",
      "source": [
        "class Studente(Persona):\n",
        "  profilo = \"Studente\"\n",
        "\n",
        "  def __init__(self, nome, cognome, eta, residenza, corso_di_studio):\n",
        "      super().__init__(nome, cognome, eta, residenza)\n",
        "      self.corso_di_studio = corso_di_studio\n",
        "\n",
        "  def scheda_personale(self):\n",
        "\n",
        "    return f\"\\nNome: {self.nome} \\nCognome: {self.cognome} \\nEta: {self.eta} \\nResidenza: {self.residenza} \\n\\n\\tProfilo: Studente \\n\\tCorso di studio: {self.corso_di_studio}\"\n",
        "\n",
        "  def cambio_corso(self,corso):\n",
        "\n",
        "    nCorso=input(\"Inserisci nuovo Corso di Studi: \")\n",
        "    self.corso_di_studio=nCorso\n",
        "    print(\"Corso aggiornato con successo!!!\")\n",
        "\n",
        "class Insegnante(Persona):\n",
        "  profilo = \"Insegnante\"\n",
        "\n",
        "  def __init__(self,nome, cognome, eta, residenza, materie=None):\n",
        "\n",
        "    super().__init__(nome, cognome, eta, residenza)\n",
        "    self.materie=materie\n",
        "\n",
        "  def scheda_personale(self):\n",
        "\n",
        "    return f\"\\nNome: {self.nome} \\nCognome: {self.cognome} \\nEta: {self.eta} \\nResidenza: {self.residenza} \\n\\n\\tProfilo: Insegnante \\n\\tMaterie: {self.materie}\"\n",
        "\n",
        "  def aggiungi_materia(self,nuova):\n",
        "\n",
        "    self.materie.append(nuova)\n",
        "    print(self.materie)\n",
        "\n",
        "  def modifica_scheda(self):\n",
        "\n",
        "    while True:\n",
        "      print(\"\\nCosa desideri modificare?\")\n",
        "      print(\"1. Nome\")\n",
        "      print(\"2. Cognome\")\n",
        "      print(\"3. Eta\")\n",
        "      print(\"4. Residenza\")\n",
        "      print(\"5. Materie\")\n",
        "      print(\"0. EXIT\")\n",
        "      n=int(input(\": \"))\n",
        "      match(n):\n",
        "        case 1:\n",
        "          nNome=input(\"Inserisci nuovo nome: \")\n",
        "          self.nome=nNome\n",
        "\n",
        "        case 2:\n",
        "          nCognome=input(\"Inserisci nuovo Cognome: \")\n",
        "          self.cognome=nCognome\n",
        "\n",
        "        case 3:\n",
        "          nEta=input(\"Inserisci nuova Eta: \")\n",
        "          self.eta=nEta\n",
        "\n",
        "        case 4:\n",
        "          nResidenza=input(\"Inserisci nuova Resdienza: \")\n",
        "          self.residenza=nResidenza\n",
        "\n",
        "        case 5:\n",
        "          print(\"Che materia vuoi aggiungere?\")\n",
        "          nMateria=input(\": \")\n",
        "          self.aggiungi_materia(nMateria)\n",
        "\n",
        "        #case _:\n",
        "          #print(\"Inserisci numero 0-5!!!\")\n",
        "\n",
        "      if n==0:\n",
        "        break"
      ],
      "metadata": {
        "id": "95qHDqz-ii-k"
      },
      "execution_count": null,
      "outputs": []
    },
    {
      "cell_type": "code",
      "source": [
        "studente_due = Studente(\"Mirta\", \"Gialli\", 24, \"Casa Della Studentessa\",\"Corso informatica 1\")\n",
        "insegnante_due = Insegnante(\"Maria\", \"Rosa\", 33, \"Viale Roma 62\",['sistemi','tpsi'])\n",
        "print(studente_due.scheda_personale())\n",
        "print(insegnante_due.scheda_personale())"
      ],
      "metadata": {
        "colab": {
          "base_uri": "https://localhost:8080/"
        },
        "id": "oMTkAILFjcXO",
        "outputId": "4f135212-bd56-4549-df65-67f890c11d0b"
      },
      "execution_count": null,
      "outputs": [
        {
          "output_type": "stream",
          "name": "stdout",
          "text": [
            "\n",
            "Nome: Mirta \n",
            "Cognome: Gialli \n",
            "Eta: 24 \n",
            "Residenza: Casa Della Studentessa \n",
            "\n",
            "\tProfilo: Studente \n",
            "\tCorso di studio: Corso informatica 1\n",
            "\n",
            "Nome: Maria \n",
            "Cognome: Rosa \n",
            "Eta: 33 \n",
            "Residenza: Viale Roma 62 \n",
            "\n",
            "\tProfilo: Insegnante \n",
            "\tMaterie: ['sistemi', 'tpsi']\n"
          ]
        }
      ]
    },
    {
      "cell_type": "code",
      "source": [
        "insegnante_due.modifica_scheda()"
      ],
      "metadata": {
        "colab": {
          "base_uri": "https://localhost:8080/"
        },
        "id": "jToBO836kmBG",
        "outputId": "5cad2446-1bad-44ef-9999-e3a256a737c5"
      },
      "execution_count": null,
      "outputs": [
        {
          "name": "stdout",
          "output_type": "stream",
          "text": [
            "\n",
            "Cosa desideri modificare?\n",
            "1. Nome\n",
            "2. Cognome\n",
            "3. Eta\n",
            "4. Residenza\n",
            "5. Materie\n",
            "0. EXIT\n",
            ": 0\n"
          ]
        }
      ]
    },
    {
      "cell_type": "code",
      "source": [
        "print(insegnante_due.scheda_personale())"
      ],
      "metadata": {
        "colab": {
          "base_uri": "https://localhost:8080/"
        },
        "id": "vv4ArcsYkzaQ",
        "outputId": "52d86618-42ff-42cb-fae5-213e05844308"
      },
      "execution_count": null,
      "outputs": [
        {
          "output_type": "stream",
          "name": "stdout",
          "text": [
            "\n",
            "Nome: Maria \n",
            "Cognome: Rosa \n",
            "Eta: 33 \n",
            "Residenza: Viale Roma 62 \n",
            "\n",
            "\tProfilo: Insegnante \n",
            "\tMaterie: ['sistemi', 'tpsi']\n"
          ]
        }
      ]
    },
    {
      "cell_type": "code",
      "source": [
        "insegnante_due.aggiungi_materia(\"Informatica\")"
      ],
      "metadata": {
        "colab": {
          "base_uri": "https://localhost:8080/"
        },
        "id": "8ni32G-utpbX",
        "outputId": "c6947de5-8b44-48db-a924-2979207f88cd"
      },
      "execution_count": null,
      "outputs": [
        {
          "output_type": "stream",
          "name": "stdout",
          "text": [
            "['sistemi', 'tpsi', 'Informatica']\n"
          ]
        }
      ]
    },
    {
      "cell_type": "code",
      "source": [
        "print(insegnante_due.scheda_personale())"
      ],
      "metadata": {
        "colab": {
          "base_uri": "https://localhost:8080/"
        },
        "id": "toAnB577t8VC",
        "outputId": "4489e4d7-7219-41d5-b883-1ca08d23767d"
      },
      "execution_count": null,
      "outputs": [
        {
          "output_type": "stream",
          "name": "stdout",
          "text": [
            "\n",
            "Nome: Maria \n",
            "Cognome: Rosa \n",
            "Eta: 33 \n",
            "Residenza: Viale Roma 62 \n",
            "\n",
            "\tProfilo: Insegnante \n",
            "\tMaterie: ['sistemi', 'tpsi', 'Informatica']\n"
          ]
        }
      ]
    },
    {
      "cell_type": "code",
      "source": [
        "studente_due.cambio_corso(\"Informatica\")"
      ],
      "metadata": {
        "colab": {
          "base_uri": "https://localhost:8080/"
        },
        "id": "yPGYE9LPuPZQ",
        "outputId": "ca2931e6-2822-429f-bafe-ec8fe3450301"
      },
      "execution_count": null,
      "outputs": [
        {
          "output_type": "stream",
          "name": "stdout",
          "text": [
            "Inserisci nuovo Corso di Studi: Mtematica\n",
            "Corso aggiornato con successo!!!\n"
          ]
        }
      ]
    },
    {
      "cell_type": "code",
      "source": [
        "print(studente_due.scheda_personale())"
      ],
      "metadata": {
        "colab": {
          "base_uri": "https://localhost:8080/"
        },
        "id": "Fqo1Ma_7ukcL",
        "outputId": "ccd1b57e-9b7e-42bc-9d64-cdffc42dc8b9"
      },
      "execution_count": null,
      "outputs": [
        {
          "output_type": "stream",
          "name": "stdout",
          "text": [
            "\n",
            "Nome: Mirta \n",
            "Cognome: Gialli \n",
            "Eta: 24 \n",
            "Residenza: Casa Della Studentessa \n",
            "\n",
            "\tProfilo: Studente \n",
            "\tCorso di studio: Mtematica\n"
          ]
        }
      ]
    },
    {
      "cell_type": "code",
      "source": [
        "class Residenza():\n",
        "  profilo = \"Casa dello studente\"\n",
        "\n",
        "  def __init__(self,nome, indirizzo, capienza):\n",
        "\n",
        "      self.nome=nome\n",
        "      self.indirizzo=indirizzo\n",
        "      self.capienza=capienza\n",
        "      self.studenti=[]\n",
        "      self.insegnanti=[]\n",
        "\n",
        "  def aggiungi_studente(self,studente):\n",
        "\n",
        "      self.studenti.append(studente)\n",
        "      print(f\"Studente {studente.nome} {studente.cognome} aggiunto con successo!!!\")\n",
        "\n",
        "  def rimuovi_studente(self,studente):\n",
        "\n",
        "      self.studenti.remove(studente)\n",
        "      print(f\"Studente {studente.nome} {studente.cognome} rimosso con successo!!!\")\n",
        "\n",
        "  def elenco_studenti(self):\n",
        "\n",
        "      #print(self.studenti)\n",
        "      return self.studenti\n"
      ],
      "metadata": {
        "id": "mjo_D3eYuu6y"
      },
      "execution_count": null,
      "outputs": []
    },
    {
      "cell_type": "code",
      "source": [
        "casa=Residenza(\"Casa 1\",\"Indirizzo 1\",100)\n",
        "casa.aggiungi_studente(studente_uno)\n",
        "casa.aggiungi_studente(studente_due)"
      ],
      "metadata": {
        "colab": {
          "base_uri": "https://localhost:8080/"
        },
        "id": "CeM8AIUNwTei",
        "outputId": "bcd4c568-f0ca-4a0a-a69a-77fcf9406909"
      },
      "execution_count": null,
      "outputs": [
        {
          "output_type": "stream",
          "name": "stdout",
          "text": [
            "Studente Marco Verdi aggiunto con successo!!!\n",
            "Studente Mirta Gialli aggiunto con successo!!!\n"
          ]
        }
      ]
    },
    {
      "cell_type": "code",
      "source": [
        "stud=casa.elenco_studenti()\n",
        "for i,s in enumerate(stud):\n",
        "  print(f\"Studente: {i+1}\")\n",
        "  print(s.scheda_personale())"
      ],
      "metadata": {
        "colab": {
          "base_uri": "https://localhost:8080/"
        },
        "id": "tc_XnCi9wofQ",
        "outputId": "05140a6b-aa11-4b07-d2ab-df517a6859fa"
      },
      "execution_count": null,
      "outputs": [
        {
          "output_type": "stream",
          "name": "stdout",
          "text": [
            "Studente: 1\n",
            "\n",
            "Nome: Marco \n",
            "Cognome: Verdi \n",
            "Eta: 24 \n",
            "Residenza Casa Dello Studente\n",
            "Studente: 2\n",
            "\n",
            "Nome: Mirta \n",
            "Cognome: Gialli \n",
            "Eta: 24 \n",
            "Residenza: Casa Della Studentessa \n",
            "\n",
            "\tProfilo: Studente \n",
            "\tCorso di studio: Mtematica\n"
          ]
        }
      ]
    }
  ]
}